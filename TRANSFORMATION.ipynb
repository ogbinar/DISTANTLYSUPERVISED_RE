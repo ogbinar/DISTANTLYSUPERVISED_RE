{
 "cells": [
  {
   "cell_type": "code",
   "execution_count": 1,
   "metadata": {},
   "outputs": [],
   "source": [
    "import pandas as pd"
   ]
  },
  {
   "cell_type": "code",
   "execution_count": 57,
   "metadata": {},
   "outputs": [
    {
     "data": {
      "text/html": [
       "<div>\n",
       "<style scoped>\n",
       "    .dataframe tbody tr th:only-of-type {\n",
       "        vertical-align: middle;\n",
       "    }\n",
       "\n",
       "    .dataframe tbody tr th {\n",
       "        vertical-align: top;\n",
       "    }\n",
       "\n",
       "    .dataframe thead th {\n",
       "        text-align: right;\n",
       "    }\n",
       "</style>\n",
       "<table border=\"1\" class=\"dataframe\">\n",
       "  <thead>\n",
       "    <tr style=\"text-align: right;\">\n",
       "      <th></th>\n",
       "      <th>url</th>\n",
       "      <th>token</th>\n",
       "      <th>tokenNo</th>\n",
       "      <th>labels</th>\n",
       "      <th>annotations</th>\n",
       "    </tr>\n",
       "  </thead>\n",
       "  <tbody>\n",
       "    <tr>\n",
       "      <th>119</th>\n",
       "      <td>https://newsinfo.inquirer.net/1711061/elderly-...</td>\n",
       "      <td>Image from the BuCor website While awaiting th...</td>\n",
       "      <td>1</td>\n",
       "      <td>[Person, Person]</td>\n",
       "      <td>[{'title': 'Ferdinand Marcos', 'url': 'http://...</td>\n",
       "    </tr>\n",
       "    <tr>\n",
       "      <th>149</th>\n",
       "      <td>https://newsinfo.inquirer.net/1710768/doh-sees...</td>\n",
       "      <td>The Department of Health (DOH) said it was re...</td>\n",
       "      <td>0</td>\n",
       "      <td>[Person, Person]</td>\n",
       "      <td>[{'title': 'Ferdinand Marcos', 'url': 'http://...</td>\n",
       "    </tr>\n",
       "    <tr>\n",
       "      <th>177</th>\n",
       "      <td>https://newsinfo.inquirer.net/1710775/marcos-r...</td>\n",
       "      <td>PHOTO: President Ferdinand ‘Bongbong’ Marcos ‘...</td>\n",
       "      <td>0</td>\n",
       "      <td>[Person, Person]</td>\n",
       "      <td>[{'title': 'Bongbong Marcos', 'url': 'http://e...</td>\n",
       "    </tr>\n",
       "    <tr>\n",
       "      <th>223</th>\n",
       "      <td>https://newsinfo.inquirer.net/1710771/marcos-t...</td>\n",
       "      <td>| PHOTO: official pacebook page of President F...</td>\n",
       "      <td>1</td>\n",
       "      <td>[Person, Person]</td>\n",
       "      <td>[{'title': 'Bongbong Marcos', 'url': 'http://e...</td>\n",
       "    </tr>\n",
       "    <tr>\n",
       "      <th>252</th>\n",
       "      <td>https://newsinfo.inquirer.net/1710429/manila-b...</td>\n",
       "      <td>The agreement will be signed by Foreign Secret...</td>\n",
       "      <td>4</td>\n",
       "      <td>[Person, Person]</td>\n",
       "      <td>[{'title': 'Enrique Manalo', 'url': 'http://en...</td>\n",
       "    </tr>\n",
       "    <tr>\n",
       "      <th>...</th>\n",
       "      <td>...</td>\n",
       "      <td>...</td>\n",
       "      <td>...</td>\n",
       "      <td>...</td>\n",
       "      <td>...</td>\n",
       "    </tr>\n",
       "    <tr>\n",
       "      <th>3305</th>\n",
       "      <td>https://newsinfo.inquirer.net/1679726/dilg-chi...</td>\n",
       "      <td>Southern Police District director Col. Kirby J...</td>\n",
       "      <td>7</td>\n",
       "      <td>[Person, Person]</td>\n",
       "      <td>[{'title': 'John Kirby (baseball)', 'url': 'ht...</td>\n",
       "    </tr>\n",
       "    <tr>\n",
       "      <th>3421</th>\n",
       "      <td>https://newsinfo.inquirer.net/1679712/doj-chie...</td>\n",
       "      <td>Juanito Jose Diaz Remulla III was arrested by ...</td>\n",
       "      <td>2</td>\n",
       "      <td>[Person, Person]</td>\n",
       "      <td>[{'title': 'Juanito (footballer, born 1976)', ...</td>\n",
       "    </tr>\n",
       "    <tr>\n",
       "      <th>3471</th>\n",
       "      <td>https://newsinfo.inquirer.net/1679362/hontiver...</td>\n",
       "      <td>Senator Jose “Jinggoy” Estrada is urging the S...</td>\n",
       "      <td>10</td>\n",
       "      <td>[Person, Person]</td>\n",
       "      <td>[{'title': 'Jinggoy Estrada', 'url': 'http://e...</td>\n",
       "    </tr>\n",
       "    <tr>\n",
       "      <th>3512</th>\n",
       "      <td>https://newsinfo.inquirer.net/1679192/binay-fi...</td>\n",
       "      <td>During the presidential campaign, President Fe...</td>\n",
       "      <td>27</td>\n",
       "      <td>[Person, Person]</td>\n",
       "      <td>[{'title': 'Ferdinand Marcos', 'url': 'http://...</td>\n",
       "    </tr>\n",
       "    <tr>\n",
       "      <th>3542</th>\n",
       "      <td>https://newsinfo.inquirer.net/1679201/migz-fau...</td>\n",
       "      <td>“We have not yet decided on that,” Bersamin sa...</td>\n",
       "      <td>27</td>\n",
       "      <td>[Person, Person]</td>\n",
       "      <td>[{'title': 'Sonny Angara', 'url': 'http://en.w...</td>\n",
       "    </tr>\n",
       "  </tbody>\n",
       "</table>\n",
       "<p>246 rows × 5 columns</p>\n",
       "</div>"
      ],
      "text/plain": [
       "                                                    url  \\\n",
       "119   https://newsinfo.inquirer.net/1711061/elderly-...   \n",
       "149   https://newsinfo.inquirer.net/1710768/doh-sees...   \n",
       "177   https://newsinfo.inquirer.net/1710775/marcos-r...   \n",
       "223   https://newsinfo.inquirer.net/1710771/marcos-t...   \n",
       "252   https://newsinfo.inquirer.net/1710429/manila-b...   \n",
       "...                                                 ...   \n",
       "3305  https://newsinfo.inquirer.net/1679726/dilg-chi...   \n",
       "3421  https://newsinfo.inquirer.net/1679712/doj-chie...   \n",
       "3471  https://newsinfo.inquirer.net/1679362/hontiver...   \n",
       "3512  https://newsinfo.inquirer.net/1679192/binay-fi...   \n",
       "3542  https://newsinfo.inquirer.net/1679201/migz-fau...   \n",
       "\n",
       "                                                  token  tokenNo  \\\n",
       "119   Image from the BuCor website While awaiting th...        1   \n",
       "149    The Department of Health (DOH) said it was re...        0   \n",
       "177   PHOTO: President Ferdinand ‘Bongbong’ Marcos ‘...        0   \n",
       "223   | PHOTO: official pacebook page of President F...        1   \n",
       "252   The agreement will be signed by Foreign Secret...        4   \n",
       "...                                                 ...      ...   \n",
       "3305  Southern Police District director Col. Kirby J...        7   \n",
       "3421  Juanito Jose Diaz Remulla III was arrested by ...        2   \n",
       "3471  Senator Jose “Jinggoy” Estrada is urging the S...       10   \n",
       "3512  During the presidential campaign, President Fe...       27   \n",
       "3542  “We have not yet decided on that,” Bersamin sa...       27   \n",
       "\n",
       "                labels                                        annotations  \n",
       "119   [Person, Person]  [{'title': 'Ferdinand Marcos', 'url': 'http://...  \n",
       "149   [Person, Person]  [{'title': 'Ferdinand Marcos', 'url': 'http://...  \n",
       "177   [Person, Person]  [{'title': 'Bongbong Marcos', 'url': 'http://e...  \n",
       "223   [Person, Person]  [{'title': 'Bongbong Marcos', 'url': 'http://e...  \n",
       "252   [Person, Person]  [{'title': 'Enrique Manalo', 'url': 'http://en...  \n",
       "...                ...                                                ...  \n",
       "3305  [Person, Person]  [{'title': 'John Kirby (baseball)', 'url': 'ht...  \n",
       "3421  [Person, Person]  [{'title': 'Juanito (footballer, born 1976)', ...  \n",
       "3471  [Person, Person]  [{'title': 'Jinggoy Estrada', 'url': 'http://e...  \n",
       "3512  [Person, Person]  [{'title': 'Ferdinand Marcos', 'url': 'http://...  \n",
       "3542  [Person, Person]  [{'title': 'Sonny Angara', 'url': 'http://en.w...  \n",
       "\n",
       "[246 rows x 5 columns]"
      ]
     },
     "execution_count": 57,
     "metadata": {},
     "output_type": "execute_result"
    }
   ],
   "source": [
    "sample_df = pd.read_pickle(\"sample_final.pkl\")\n",
    "sample_df"
   ]
  },
  {
   "cell_type": "code",
   "execution_count": 58,
   "metadata": {},
   "outputs": [],
   "source": [
    "sample_df['head_location1'] = sample_df.apply(lambda x:sorted(x['annotations'][0]['characters'],key=lambda x:abs(x[0]-x[1]),reverse=True)[0][0],axis=1)\n",
    "sample_df['head_location2'] = sample_df.apply(lambda x:sorted(x['annotations'][0]['characters'],key=lambda x:abs(x[0]-x[1]),reverse=True)[0][1],axis=1)"
   ]
  },
  {
   "cell_type": "code",
   "execution_count": 59,
   "metadata": {},
   "outputs": [],
   "source": [
    "sample_df['tail_location1'] = sample_df.apply(lambda x:sorted(x['annotations'][1]['characters'],key=lambda x:abs(x[0]-x[1]),reverse=True)[0][0],axis=1)\n",
    "sample_df['tail_location2'] = sample_df.apply(lambda x:sorted(x['annotations'][1]['characters'],key=lambda x:abs(x[0]-x[1]),reverse=True)[0][1],axis=1)"
   ]
  },
  {
   "cell_type": "code",
   "execution_count": 60,
   "metadata": {},
   "outputs": [],
   "source": [
    "sample_df['head_title'] = sample_df.apply(lambda x:x['annotations'][0]['title'],axis=1)\n",
    "sample_df['tail_title'] = sample_df.apply(lambda x:x['annotations'][1]['title'],axis=1)"
   ]
  },
  {
   "cell_type": "code",
   "execution_count": 61,
   "metadata": {},
   "outputs": [],
   "source": [
    "processed_df = sample_df.copy().drop(['annotations'],axis=1)"
   ]
  },
  {
   "cell_type": "code",
   "execution_count": 64,
   "metadata": {},
   "outputs": [],
   "source": [
    "processed_df.to_excel(\"processed_df.xlsx\",index=False)"
   ]
  },
  {
   "cell_type": "code",
   "execution_count": null,
   "metadata": {},
   "outputs": [],
   "source": []
  }
 ],
 "metadata": {
  "kernelspec": {
   "display_name": "Python 3",
   "language": "python",
   "name": "python3"
  },
  "language_info": {
   "codemirror_mode": {
    "name": "ipython",
    "version": 3
   },
   "file_extension": ".py",
   "mimetype": "text/x-python",
   "name": "python",
   "nbconvert_exporter": "python",
   "pygments_lexer": "ipython3",
   "version": "3.8.3"
  }
 },
 "nbformat": 4,
 "nbformat_minor": 4
}
